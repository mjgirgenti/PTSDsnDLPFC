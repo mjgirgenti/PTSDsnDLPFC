{
 "cells": [
  {
   "cell_type": "code",
   "execution_count": 1,
   "id": "34cf0daf-8ab6-4571-a6d8-ef271c8cf2c7",
   "metadata": {
    "scrolled": true,
    "tags": []
   },
   "outputs": [
    {
     "name": "stderr",
     "output_type": "stream",
     "text": [
      "\n",
      "                                                   / |\n",
      "                                                 /    \\\n",
      "            .                                  /      |.\n",
      "            \\\\\\                              /        |.\n",
      "              \\\\\\                          /           `|.\n",
      "                \\\\\\                      /              |.\n",
      "                  \\                    /                |\\\n",
      "                  \\\\#####\\           /                  ||\n",
      "                ==###########>      /                   ||\n",
      "                 \\\\##==......\\    /                     ||\n",
      "            ______ =       =|__ /__                     ||      \\\\\\\n",
      "        ,--' ,----`-,__ ___/'  --,-`-===================##========>\n",
      "       \\               '        ##_______ _____ ,--,__,=##,__   ///\n",
      "        ,    __==    ___,-,__,--'#'  ==='      `-'    | ##,-/\n",
      "        -,____,---'       \\\\####\\\\________________,--\\\\_##,/\n",
      "           ___      .______        ______  __    __  .______      \n",
      "          /   \\     |   _  \\      /      ||  |  |  | |   _  \\     \n",
      "         /  ^  \\    |  |_)  |    |  ,----'|  |__|  | |  |_)  |    \n",
      "        /  /_\\  \\   |      /     |  |     |   __   | |      /     \n",
      "       /  _____  \\  |  |\\  \\\\___ |  `----.|  |  |  | |  |\\  \\\\___.\n",
      "      /__/     \\__\\ | _| `._____| \\______||__|  |__| | _| `._____|\n",
      "    \n",
      "\n",
      "ArchR : Version 1.0.2\n",
      "For more information see our website : www.ArchRProject.com\n",
      "If you encounter a bug please report : https://github.com/GreenleafLab/ArchR/issues\n",
      "\n",
      "Loading Required Packages...\n",
      "\n",
      "\tLoading Package : grid v4.3.3\n",
      "\n",
      "\tLoading Package : gridExtra v2.3\n",
      "\n",
      "\tLoading Package : gtools v3.9.5\n",
      "\n",
      "\tLoading Package : gtable v0.3.5\n",
      "\n",
      "\tLoading Package : ggplot2 v3.5.1\n",
      "\n",
      "\tLoading Package : magrittr v2.0.3\n",
      "\n",
      "\tLoading Package : plyr v1.8.9\n",
      "\n",
      "\tLoading Package : stringr v1.5.1\n",
      "\n",
      "\tLoading Package : data.table v1.15.4\n",
      "\n",
      "\tLoading Package : matrixStats v1.3.0\n",
      "\n",
      "\tLoading Package : S4Vectors v0.40.2\n",
      "\n",
      "\tLoading Package : GenomicRanges v1.54.1\n",
      "\n",
      "\tLoading Package : BiocGenerics v0.48.1\n",
      "\n",
      "\tLoading Package : Matrix v1.6.5\n",
      "\n",
      "\tLoading Package : Rcpp v1.0.12\n",
      "\n",
      "\tLoading Package : SummarizedExperiment v1.32.0\n",
      "\n",
      "\tLoading Package : rhdf5 v2.46.1\n",
      "\n",
      "\n",
      "Attaching package: ‘dplyr’\n",
      "\n",
      "\n",
      "The following object is masked from ‘package:Biobase’:\n",
      "\n",
      "    combine\n",
      "\n",
      "\n",
      "The following objects are masked from ‘package:GenomicRanges’:\n",
      "\n",
      "    intersect, setdiff, union\n",
      "\n",
      "\n",
      "The following object is masked from ‘package:GenomeInfoDb’:\n",
      "\n",
      "    intersect\n",
      "\n",
      "\n",
      "The following objects are masked from ‘package:IRanges’:\n",
      "\n",
      "    collapse, desc, intersect, setdiff, slice, union\n",
      "\n",
      "\n",
      "The following objects are masked from ‘package:S4Vectors’:\n",
      "\n",
      "    first, intersect, rename, setdiff, setequal, union\n",
      "\n",
      "\n",
      "The following objects are masked from ‘package:BiocGenerics’:\n",
      "\n",
      "    combine, intersect, setdiff, union\n",
      "\n",
      "\n",
      "The following object is masked from ‘package:matrixStats’:\n",
      "\n",
      "    count\n",
      "\n",
      "\n",
      "The following objects are masked from ‘package:data.table’:\n",
      "\n",
      "    between, first, last\n",
      "\n",
      "\n",
      "The following objects are masked from ‘package:plyr’:\n",
      "\n",
      "    arrange, count, desc, failwith, id, mutate, rename, summarise,\n",
      "    summarize\n",
      "\n",
      "\n",
      "The following object is masked from ‘package:gridExtra’:\n",
      "\n",
      "    combine\n",
      "\n",
      "\n",
      "The following objects are masked from ‘package:stats’:\n",
      "\n",
      "    filter, lag\n",
      "\n",
      "\n",
      "The following objects are masked from ‘package:base’:\n",
      "\n",
      "    intersect, setdiff, setequal, union\n",
      "\n",
      "\n",
      "\n",
      "Attaching package: ‘glue’\n",
      "\n",
      "\n",
      "The following object is masked from ‘package:SummarizedExperiment’:\n",
      "\n",
      "    trim\n",
      "\n",
      "\n",
      "The following object is masked from ‘package:GenomicRanges’:\n",
      "\n",
      "    trim\n",
      "\n",
      "\n",
      "The following object is masked from ‘package:IRanges’:\n",
      "\n",
      "    trim\n",
      "\n",
      "\n"
     ]
    },
    {
     "ename": "ERROR",
     "evalue": "Error in library(ggpubr): there is no package called ‘ggpubr’\n",
     "output_type": "error",
     "traceback": [
      "Error in library(ggpubr): there is no package called ‘ggpubr’\nTraceback:\n",
      "1. library(ggpubr)"
     ]
    }
   ],
   "source": [
    "library(ArchR)\n",
    "library(stringr)\n",
    "library(ggplot2)\n",
    "library(dplyr)\n",
    "library(glue)\n",
    "library(parallel)\n",
    "library(ggpubr)"
   ]
  },
  {
   "cell_type": "markdown",
   "id": "29eb873a-4599-4731-98cc-739ecd2da3e8",
   "metadata": {},
   "source": [
    "# Fig. 1f ATAC signal tracks"
   ]
  },
  {
   "cell_type": "code",
   "execution_count": 4,
   "id": "9087321e-95d1-4609-a249-1585e08fbc74",
   "metadata": {
    "tags": []
   },
   "outputs": [
    {
     "name": "stderr",
     "output_type": "stream",
     "text": [
      "Setting default number of Parallel threads to 20.\n",
      "\n"
     ]
    }
   ],
   "source": [
    "addArchRThreads(threads = 20) "
   ]
  },
  {
   "cell_type": "code",
   "execution_count": 5,
   "id": "66c9a11b-5417-467d-aa7d-5a29b35443a9",
   "metadata": {
    "tags": []
   },
   "outputs": [
    {
     "name": "stderr",
     "output_type": "stream",
     "text": [
      "Successfully loaded ArchRProject!\n",
      "\n",
      "\n",
      "                                                   / |\n",
      "                                                 /    \\\n",
      "            .                                  /      |.\n",
      "            \\\\\\                              /        |.\n",
      "              \\\\\\                          /           `|.\n",
      "                \\\\\\                      /              |.\n",
      "                  \\                    /                |\\\n",
      "                  \\\\#####\\           /                  ||\n",
      "                ==###########>      /                   ||\n",
      "                 \\\\##==......\\    /                     ||\n",
      "            ______ =       =|__ /__                     ||      \\\\\\\n",
      "        ,--' ,----`-,__ ___/'  --,-`-===================##========>\n",
      "       \\               '        ##_______ _____ ,--,__,=##,__   ///\n",
      "        ,    __==    ___,-,__,--'#'  ==='      `-'    | ##,-/\n",
      "        -,____,---'       \\\\####\\\\________________,--\\\\_##,/\n",
      "           ___      .______        ______  __    __  .______      \n",
      "          /   \\     |   _  \\      /      ||  |  |  | |   _  \\     \n",
      "         /  ^  \\    |  |_)  |    |  ,----'|  |__|  | |  |_)  |    \n",
      "        /  /_\\  \\   |      /     |  |     |   __   | |      /     \n",
      "       /  _____  \\  |  |\\  \\\\___ |  `----.|  |  |  | |  |\\  \\\\___.\n",
      "      /__/     \\__\\ | _| `._____| \\______||__|  |__| | _| `._____|\n",
      "    \n",
      "\n"
     ]
    }
   ],
   "source": [
    "proj <- loadArchRProject('/home/ah2428/ShareZhangLab/PTSD/ATAC/data/ATAC_FINAL')"
   ]
  },
  {
   "cell_type": "code",
   "execution_count": 8,
   "id": "e5c8dcd3-e29e-4c20-9c2f-c49c2f767d35",
   "metadata": {
    "tags": []
   },
   "outputs": [],
   "source": [
    "source('ArchRBrowser-Fig1.R')"
   ]
  },
  {
   "cell_type": "code",
   "execution_count": 9,
   "id": "79caa6bf-04a7-4159-a4d0-2421600d8df2",
   "metadata": {
    "tags": []
   },
   "outputs": [],
   "source": [
    "genes <- data.frame(getGenes(proj))"
   ]
  },
  {
   "cell_type": "code",
   "execution_count": null,
   "id": "9387d835-1bda-48d8-ad06-149c1d597dc6",
   "metadata": {},
   "outputs": [],
   "source": [
    "SLC17A7 chr19:49428401-49443360\n",
    "GAD2 chr10:26214307-26306558\n",
    "MOG chr6:29655981-29673372\n",
    "OLIG1 chr21:33068144-33074420\n",
    "CLDN5 chr22:19522024-19528545\n",
    "GJA1 chr6:121434692-121450727\n",
    "CX3CR1 chr3:39262494-39282735"
   ]
  },
  {
   "cell_type": "code",
   "execution_count": 10,
   "id": "93449133-aa31-4c88-9d7b-364fab3971f3",
   "metadata": {
    "tags": []
   },
   "outputs": [
    {
     "name": "stdout",
     "output_type": "stream",
     "text": [
      "      seqnames    start      end width strand gene_id  symbol\n",
      "21999    chr19 49429401 49442360 12960      -   57030 SLC17A7\n"
     ]
    },
    {
     "name": "stderr",
     "output_type": "stream",
     "text": [
      "ArchR logging to : ArchRLogs/ArchR-plotBrowserTrack-2b7cc04f6df19d-Date-2024-09-12_Time-17-44-22.661196.log\n",
      "If there is an issue, please report to github with logFile!\n",
      "\n",
      "2024-09-12 17:44:23.434596 : Validating Region, 0.014 mins elapsed.\n",
      "\n",
      "2024-09-12 17:44:23.450271 : Adding Bulk Tracks (1 of 1), 0.014 mins elapsed.\n",
      "\n",
      "Warning message:\n",
      "“\u001b[1m\u001b[22m`aes_string()` was deprecated in ggplot2 3.0.0.\n",
      "\u001b[36mℹ\u001b[39m Please use tidy evaluation idioms with `aes()`.\n",
      "\u001b[36mℹ\u001b[39m See also `vignette(\"ggplot2-in-packages\")` for more information.”\n",
      "Warning message:\n",
      "“\u001b[1m\u001b[22mThe `size` argument of `element_line()` is deprecated as of ggplot2 3.4.0.\n",
      "\u001b[36mℹ\u001b[39m Please use the `linewidth` argument instead.”\n",
      "Warning message:\n",
      "“\u001b[1m\u001b[22mThe `size` argument of `element_rect()` is deprecated as of ggplot2 3.4.0.\n",
      "\u001b[36mℹ\u001b[39m Please use the `linewidth` argument instead.”\n",
      "2024-09-12 17:46:45.973526 : Adding Gene Tracks (1 of 1), 2.389 mins elapsed.\n",
      "\n",
      "Warning message:\n",
      "“\u001b[1m\u001b[22mUsing `size` aesthetic for lines was deprecated in ggplot2 3.4.0.\n",
      "\u001b[36mℹ\u001b[39m Please use `linewidth` instead.”\n",
      "Warning message in ggrepel::geom_text_repel(data = genesO[which(genesO$strand != :\n",
      "“\u001b[1m\u001b[22mIgnoring unknown aesthetics: \u001b[32mlabel.size\u001b[39m”\n",
      "Warning message in ggrepel::geom_text_repel(data = genesO[which(genesO$strand == :\n",
      "“\u001b[1m\u001b[22mIgnoring unknown aesthetics: \u001b[32mlabel.size\u001b[39m”\n",
      "2024-09-12 17:46:46.527339 : Plotting, 2.398 mins elapsed.\n",
      "\n",
      "ArchR logging successful to : ArchRLogs/ArchR-plotBrowserTrack-2b7cc04f6df19d-Date-2024-09-12_Time-17-44-22.661196.log\n",
      "\n"
     ]
    }
   ],
   "source": [
    "df <- genes[genes$symbol=='SLC17A7',] \n",
    "df <- na.omit(df)\n",
    "print(df)\n",
    "\n",
    "p <- plotBrowserTrack3(\n",
    "    ArchRProj = proj, \n",
    "    groupBy = \"Int_Cluster\", \n",
    "    useGroups = c('EXC','INH','OLI','OPC','END','AST','MIC'),\n",
    "    plotSummary = c(\"bulkTrack\",\"geneTrack\"),\n",
    "    region = GRanges(seqnames = df$seqnames,ranges = IRanges(start=df$start-1000,end=df$end+1000)),\n",
    "    sizes = c(4, 0.5),\n",
    "    ylim2 = c(0, 0.2),\n",
    "    tileSize=250,\n",
    "    pal=c('#b22222','#2E8B57','#5254a3','#aec7e8','#bc80bd','#ffed6f','#7f7f7f')\n",
    ")"
   ]
  },
  {
   "cell_type": "code",
   "execution_count": 11,
   "id": "0412585f-b8b3-4016-a195-dce1d6ba4bf6",
   "metadata": {
    "tags": []
   },
   "outputs": [
    {
     "name": "stderr",
     "output_type": "stream",
     "text": [
      "Plotting Gtable!\n",
      "\n"
     ]
    },
    {
     "name": "stdout",
     "output_type": "stream",
     "text": [
      "NULL\n"
     ]
    }
   ],
   "source": [
    "plotPDF(p, \n",
    "    name = \"SLC17A7_track.pdf\", \n",
    "    ArchRProj = proj, \n",
    "    addDOC = FALSE, width = 2.5, height = 4)"
   ]
  },
  {
   "cell_type": "code",
   "execution_count": 87,
   "id": "bd16297d-ec71-48d5-bd2f-4a9bf7af3d33",
   "metadata": {
    "tags": []
   },
   "outputs": [
    {
     "name": "stderr",
     "output_type": "stream",
     "text": [
      "ArchR logging to : ArchRLogs/ArchR-plotBrowserTrack-2beed12911fbf-Date-2023-07-21_Time-15-46-40.log\n",
      "If there is an issue, please report to github with logFile!\n",
      "\n",
      "2023-07-21 15:46:40 : Validating Region, 0.005 mins elapsed.\n",
      "\n",
      "2023-07-21 15:46:40 : Adding Bulk Tracks (1 of 1), 0.006 mins elapsed.\n",
      "\n",
      "2023-07-21 15:49:06 : Adding Gene Tracks (1 of 1), 2.437 mins elapsed.\n",
      "\n",
      "Warning message in ggrepel::geom_text_repel(data = genesO[which(genesO$strand != :\n",
      "“\u001b[1m\u001b[22mIgnoring unknown aesthetics: \u001b[32mlabel.size\u001b[39m”\n",
      "2023-07-21 15:49:06 : Plotting, 2.443 mins elapsed.\n",
      "\n",
      "ArchR logging successful to : ArchRLogs/ArchR-plotBrowserTrack-2beed12911fbf-Date-2023-07-21_Time-15-46-40.log\n",
      "\n"
     ]
    }
   ],
   "source": [
    "df <- genes[genes$symbol=='GAD2',] \n",
    "df <- na.omit(df)\n",
    "\n",
    "p <- plotBrowserTrack3(\n",
    "    ArchRProj = proj, \n",
    "    groupBy = \"Int_Cluster\", \n",
    "    useGroups = c('EXC','INH','OLI','OPC','END','AST','MIC'),\n",
    "    plotSummary = c(\"bulkTrack\",\"geneTrack\"),\n",
    "    region = GRanges(seqnames = df$seqnames,ranges = IRanges(start=df$start-2000,end=df$end+2000)),\n",
    "    sizes = c(4, 0.5),\n",
    "    ylim2 = c(0, 0.3),\n",
    "    tileSize=750,\n",
    "    pal=c('#b22222','#2E8B57','#5254a3','#aec7e8','#bc80bd','#ffed6f','#7f7f7f')\n",
    ")"
   ]
  },
  {
   "cell_type": "code",
   "execution_count": 88,
   "id": "cfebc618-ac50-44a2-9501-fea8cff2a276",
   "metadata": {
    "tags": []
   },
   "outputs": [
    {
     "name": "stderr",
     "output_type": "stream",
     "text": [
      "Plotting Gtable!\n",
      "\n"
     ]
    },
    {
     "name": "stdout",
     "output_type": "stream",
     "text": [
      "NULL\n"
     ]
    }
   ],
   "source": [
    "plotPDF(p, \n",
    "    name = \"GAD2_track.pdf\", \n",
    "    ArchRProj = proj, \n",
    "    addDOC = FALSE, width = 2.5, height = 4)"
   ]
  },
  {
   "cell_type": "code",
   "execution_count": 34,
   "id": "3eef4d1e-edc8-4743-bc95-c473454b408b",
   "metadata": {
    "tags": []
   },
   "outputs": [
    {
     "name": "stderr",
     "output_type": "stream",
     "text": [
      "ArchR logging to : ArchRLogs/ArchR-plotBrowserTrack-2beed1cd45543-Date-2023-07-21_Time-11-33-51.log\n",
      "If there is an issue, please report to github with logFile!\n",
      "\n",
      "2023-07-21 11:33:51 : Validating Region, 0.005 mins elapsed.\n",
      "\n",
      "2023-07-21 11:33:51 : Adding Bulk Tracks (1 of 1), 0.006 mins elapsed.\n",
      "\n",
      "2023-07-21 11:36:21 : Adding Gene Tracks (1 of 1), 2.493 mins elapsed.\n",
      "\n",
      "Warning message in ggrepel::geom_text_repel(data = genesO[which(genesO$strand != :\n",
      "“\u001b[1m\u001b[22mIgnoring unknown aesthetics: \u001b[32mlabel.size\u001b[39m”\n",
      "Warning message in ggrepel::geom_text_repel(data = genesO[which(genesO$strand == :\n",
      "“\u001b[1m\u001b[22mIgnoring unknown aesthetics: \u001b[32mlabel.size\u001b[39m”\n",
      "2023-07-21 11:36:21 : Plotting, 2.499 mins elapsed.\n",
      "\n",
      "ArchR logging successful to : ArchRLogs/ArchR-plotBrowserTrack-2beed1cd45543-Date-2023-07-21_Time-11-33-51.log\n",
      "\n"
     ]
    }
   ],
   "source": [
    "df <- genes[genes$symbol=='MOG',] \n",
    "df <- na.omit(df)\n",
    "\n",
    "p <- plotBrowserTrack3(\n",
    "    ArchRProj = proj, \n",
    "    groupBy = \"Int_Cluster\", \n",
    "    useGroups = c('EXC','INH','OLI','OPC','END','AST','MIC'),\n",
    "    plotSummary = c(\"bulkTrack\",\"geneTrack\"),\n",
    "    region = GRanges(seqnames = df$seqnames,ranges = IRanges(start=df$start-1000,end=df$end+1000)),\n",
    "    sizes = c(4, 0.5),\n",
    "    ylim2 = c(0, 0.5),\n",
    "    tileSize=250,\n",
    "    pal=c('#b22222','#2E8B57','#5254a3','#aec7e8','#bc80bd','#ffed6f','#7f7f7f')\n",
    ")"
   ]
  },
  {
   "cell_type": "code",
   "execution_count": 35,
   "id": "771818cf-dedc-4bb5-948f-ab45d9c7678f",
   "metadata": {
    "tags": []
   },
   "outputs": [
    {
     "name": "stderr",
     "output_type": "stream",
     "text": [
      "Plotting Gtable!\n",
      "\n"
     ]
    },
    {
     "name": "stdout",
     "output_type": "stream",
     "text": [
      "NULL\n"
     ]
    }
   ],
   "source": [
    "plotPDF(p, \n",
    "    name = \"MOG_track.pdf\", \n",
    "    ArchRProj = proj, \n",
    "    addDOC = FALSE, width = 2.5, height = 4)"
   ]
  },
  {
   "cell_type": "code",
   "execution_count": 19,
   "id": "91494d65-1956-4859-90ab-c6584af9490a",
   "metadata": {
    "tags": []
   },
   "outputs": [
    {
     "name": "stderr",
     "output_type": "stream",
     "text": [
      "ArchR logging to : ArchRLogs/ArchR-plotBrowserTrack-33ad105ddccf9d-Date-2023-08-31_Time-13-08-22.log\n",
      "If there is an issue, please report to github with logFile!\n",
      "\n",
      "2023-08-31 13:08:23 : Validating Region, 0.006 mins elapsed.\n",
      "\n",
      "2023-08-31 13:08:23 : Adding Bulk Tracks (1 of 1), 0.006 mins elapsed.\n",
      "\n",
      "2023-08-31 13:10:53 : Adding Gene Tracks (1 of 1), 2.516 mins elapsed.\n",
      "\n",
      "Warning message in ggrepel::geom_text_repel(data = genesO[which(genesO$strand != :\n",
      "“\u001b[1m\u001b[22mIgnoring unknown aesthetics: \u001b[32mlabel.size\u001b[39m”\n",
      "Warning message in ggrepel::geom_text_repel(data = genesO[which(genesO$strand == :\n",
      "“\u001b[1m\u001b[22mIgnoring unknown aesthetics: \u001b[32mlabel.size\u001b[39m”\n",
      "2023-08-31 13:10:54 : Plotting, 2.523 mins elapsed.\n",
      "\n",
      "ArchR logging successful to : ArchRLogs/ArchR-plotBrowserTrack-33ad105ddccf9d-Date-2023-08-31_Time-13-08-22.log\n",
      "\n"
     ]
    }
   ],
   "source": [
    "df <- genes[genes$symbol=='OLIG1',] \n",
    "df <- na.omit(df)\n",
    "\n",
    "p <- plotBrowserTrack3(\n",
    "    ArchRProj = proj, \n",
    "    groupBy = \"Int_Cluster\", \n",
    "    useGroups = c('EXC','INH','OLI','OPC','END','AST','MIC'),\n",
    "    plotSummary = c(\"bulkTrack\",\"geneTrack\"),\n",
    "    region = GRanges(seqnames = df$seqnames,ranges = IRanges(start=df$start - 2000,end=df$end + 2000)),\n",
    "    sizes = c(4, 0.5),\n",
    "    ylim2 = c(0, 0.3),\n",
    "    tileSize=250,\n",
    "    pal=c('#b22222','#2E8B57','#5254a3','#aec7e8','#bc80bd','#ffed6f','#7f7f7f')\n",
    ")"
   ]
  },
  {
   "cell_type": "code",
   "execution_count": 18,
   "id": "d1eed58f-f59c-4911-b227-f5436388f30c",
   "metadata": {
    "tags": []
   },
   "outputs": [
    {
     "name": "stderr",
     "output_type": "stream",
     "text": [
      "Plotting Gtable!\n",
      "\n"
     ]
    },
    {
     "name": "stdout",
     "output_type": "stream",
     "text": [
      "NULL\n"
     ]
    }
   ],
   "source": [
    "plotPDF(p, \n",
    "    name = \"PDGFRA_track.pdf\", \n",
    "    ArchRProj = proj, \n",
    "    addDOC = FALSE, width = 2.5, height = 4)"
   ]
  },
  {
   "cell_type": "code",
   "execution_count": 89,
   "id": "aaa4a2ed-e10b-4b5c-8f71-2eccd5f27d3a",
   "metadata": {
    "tags": []
   },
   "outputs": [
    {
     "name": "stderr",
     "output_type": "stream",
     "text": [
      "ArchR logging to : ArchRLogs/ArchR-plotBrowserTrack-2beed139431da0-Date-2023-07-21_Time-15-50-32.log\n",
      "If there is an issue, please report to github with logFile!\n",
      "\n",
      "2023-07-21 15:50:33 : Validating Region, 0.006 mins elapsed.\n",
      "\n",
      "2023-07-21 15:50:33 : Adding Bulk Tracks (1 of 1), 0.006 mins elapsed.\n",
      "\n",
      "2023-07-21 15:52:50 : Adding Gene Tracks (1 of 1), 2.295 mins elapsed.\n",
      "\n",
      "Warning message in ggrepel::geom_text_repel(data = genesO[which(genesO$strand == :\n",
      "“\u001b[1m\u001b[22mIgnoring unknown aesthetics: \u001b[32mlabel.size\u001b[39m”\n",
      "2023-07-21 15:52:50 : Plotting, 2.301 mins elapsed.\n",
      "\n",
      "ArchR logging successful to : ArchRLogs/ArchR-plotBrowserTrack-2beed139431da0-Date-2023-07-21_Time-15-50-32.log\n",
      "\n"
     ]
    }
   ],
   "source": [
    "df <- genes[genes$symbol=='CLDN5',] \n",
    "df <- na.omit(df)\n",
    "\n",
    "p <- plotBrowserTrack3(\n",
    "    ArchRProj = proj, \n",
    "    groupBy = \"Int_Cluster\", \n",
    "    useGroups = c('EXC','INH','OLI','OPC','END','AST','MIC'),\n",
    "    plotSummary = c(\"bulkTrack\",\"geneTrack\"),\n",
    "    region = GRanges(seqnames = df$seqnames,ranges = IRanges(start=df$start-1000,end=df$end+1000)),\n",
    "    sizes = c(4, 0.5),\n",
    "    ylim2 = c(0, 0.2),\n",
    "    tileSize=200,\n",
    "    pal=c('#b22222','#2E8B57','#5254a3','#aec7e8','#bc80bd','#ffed6f','#7f7f7f')\n",
    ")"
   ]
  },
  {
   "cell_type": "code",
   "execution_count": 90,
   "id": "32b21d89-3169-476f-aa61-edbdfd0eeedf",
   "metadata": {
    "tags": []
   },
   "outputs": [
    {
     "name": "stderr",
     "output_type": "stream",
     "text": [
      "Plotting Gtable!\n",
      "\n"
     ]
    },
    {
     "name": "stdout",
     "output_type": "stream",
     "text": [
      "NULL\n"
     ]
    }
   ],
   "source": [
    "plotPDF(p, \n",
    "    name = \"CLDN5_track.pdf\", \n",
    "    ArchRProj = proj, \n",
    "    addDOC = FALSE, width = 2.5, height = 4)"
   ]
  },
  {
   "cell_type": "code",
   "execution_count": 44,
   "id": "5d221cc3-f77b-4475-9c76-a78987f90079",
   "metadata": {
    "tags": []
   },
   "outputs": [
    {
     "name": "stderr",
     "output_type": "stream",
     "text": [
      "ArchR logging to : ArchRLogs/ArchR-plotBrowserTrack-2beed160fbe509-Date-2023-07-21_Time-11-51-13.log\n",
      "If there is an issue, please report to github with logFile!\n",
      "\n",
      "2023-07-21 11:51:13 : Validating Region, 0.008 mins elapsed.\n",
      "\n",
      "2023-07-21 11:51:13 : Adding Bulk Tracks (1 of 1), 0.008 mins elapsed.\n",
      "\n",
      "2023-07-21 11:53:43 : Adding Gene Tracks (1 of 1), 2.493 mins elapsed.\n",
      "\n",
      "Warning message in ggrepel::geom_text_repel(data = genesO[which(genesO$strand != :\n",
      "“\u001b[1m\u001b[22mIgnoring unknown aesthetics: \u001b[32mlabel.size\u001b[39m”\n",
      "2023-07-21 11:53:43 : Plotting, 2.499 mins elapsed.\n",
      "\n",
      "ArchR logging successful to : ArchRLogs/ArchR-plotBrowserTrack-2beed160fbe509-Date-2023-07-21_Time-11-51-13.log\n",
      "\n"
     ]
    }
   ],
   "source": [
    "df <- genes[genes$symbol=='GJA1',] \n",
    "df <- na.omit(df)\n",
    "\n",
    "p <- plotBrowserTrack3(\n",
    "    ArchRProj = proj, \n",
    "    groupBy = \"Int_Cluster\", \n",
    "    useGroups = c('EXC','INH','OLI','OPC','END','AST','MIC'),\n",
    "    plotSummary = c(\"bulkTrack\",\"geneTrack\"),\n",
    "    region = GRanges(seqnames = df$seqnames,ranges = IRanges(start=df$start-1000,end=df$end+1000)),\n",
    "    sizes = c(4, 0.5),\n",
    "    ylim2 = c(0, 0.3),\n",
    "    tileSize=250,\n",
    "    pal=c('#b22222','#2E8B57','#5254a3','#aec7e8','#bc80bd','#ffed6f','#7f7f7f')\n",
    ")"
   ]
  },
  {
   "cell_type": "code",
   "execution_count": 45,
   "id": "da1e3aa4-9429-4154-9933-51ee4785c9f1",
   "metadata": {
    "tags": []
   },
   "outputs": [
    {
     "name": "stderr",
     "output_type": "stream",
     "text": [
      "Plotting Gtable!\n",
      "\n"
     ]
    },
    {
     "name": "stdout",
     "output_type": "stream",
     "text": [
      "NULL\n"
     ]
    }
   ],
   "source": [
    "plotPDF(p, \n",
    "    name = \"GJA1_track.pdf\", \n",
    "    ArchRProj = proj, \n",
    "    addDOC = FALSE, width = 2.5, height = 4)"
   ]
  },
  {
   "cell_type": "code",
   "execution_count": 49,
   "id": "6d9e0191-ab23-492c-a3e4-9e18fde3f82b",
   "metadata": {
    "tags": []
   },
   "outputs": [
    {
     "name": "stderr",
     "output_type": "stream",
     "text": [
      "ArchR logging to : ArchRLogs/ArchR-plotBrowserTrack-2beed12c17ae0e-Date-2023-07-21_Time-12-14-53.log\n",
      "If there is an issue, please report to github with logFile!\n",
      "\n",
      "2023-07-21 12:14:54 : Validating Region, 0.006 mins elapsed.\n",
      "\n",
      "2023-07-21 12:14:54 : Adding Bulk Tracks (1 of 1), 0.006 mins elapsed.\n",
      "\n",
      "2023-07-21 12:17:25 : Adding Gene Tracks (1 of 1), 2.532 mins elapsed.\n",
      "\n",
      "Warning message in ggrepel::geom_text_repel(data = genesO[which(genesO$strand == :\n",
      "“\u001b[1m\u001b[22mIgnoring unknown aesthetics: \u001b[32mlabel.size\u001b[39m”\n",
      "2023-07-21 12:17:26 : Plotting, 2.537 mins elapsed.\n",
      "\n",
      "ArchR logging successful to : ArchRLogs/ArchR-plotBrowserTrack-2beed12c17ae0e-Date-2023-07-21_Time-12-14-53.log\n",
      "\n"
     ]
    }
   ],
   "source": [
    "df <- genes[genes$symbol=='CX3CR1',] \n",
    "df <- na.omit(df)\n",
    "\n",
    "p <- plotBrowserTrack3(\n",
    "    ArchRProj = proj, \n",
    "    groupBy = \"Int_Cluster\", \n",
    "    useGroups = c('EXC','INH','OLI','OPC','END','AST','MIC'),\n",
    "    plotSummary = c(\"bulkTrack\",\"geneTrack\"),\n",
    "    region = GRanges(seqnames = df$seqnames,ranges = IRanges(start=df$start-1000,end=df$end+1000)),\n",
    "    sizes = c(4, 0.5),\n",
    "    ylim2 = c(0, 0.3),\n",
    "    tileSize=250,\n",
    "    pal=c('#b22222','#2E8B57','#5254a3','#aec7e8','#bc80bd','#ffed6f','#7f7f7f')\n",
    ")"
   ]
  },
  {
   "cell_type": "code",
   "execution_count": 50,
   "id": "eeb55f0e-2e76-4452-8fb4-6b3cd1e06256",
   "metadata": {
    "tags": []
   },
   "outputs": [
    {
     "name": "stderr",
     "output_type": "stream",
     "text": [
      "Plotting Gtable!\n",
      "\n"
     ]
    },
    {
     "name": "stdout",
     "output_type": "stream",
     "text": [
      "NULL\n"
     ]
    }
   ],
   "source": [
    "plotPDF(p, \n",
    "    name = \"CX3CR1_track.pdf\", \n",
    "    ArchRProj = proj, \n",
    "    addDOC = FALSE, width = 2.5, height = 4)"
   ]
  }
 ],
 "metadata": {
  "kernelspec": {
   "display_name": "R",
   "language": "R",
   "name": "ir"
  },
  "language_info": {
   "codemirror_mode": "r",
   "file_extension": ".r",
   "mimetype": "text/x-r-source",
   "name": "R",
   "pygments_lexer": "r",
   "version": "4.3.3"
  }
 },
 "nbformat": 4,
 "nbformat_minor": 5
}
